{
  "nbformat": 4,
  "nbformat_minor": 0,
  "metadata": {
    "colab": {
      "provenance": [],
      "authorship_tag": "ABX9TyOIpGD3R7+FSZ1fVrXRpzFk",
      "include_colab_link": true
    },
    "kernelspec": {
      "name": "python3",
      "display_name": "Python 3"
    },
    "language_info": {
      "name": "python"
    }
  },
  "cells": [
    {
      "cell_type": "markdown",
      "metadata": {
        "id": "view-in-github",
        "colab_type": "text"
      },
      "source": [
        "<a href=\"https://colab.research.google.com/github/ufbfung/cpic/blob/main/PGx_CDS_Tool_0.0.1.ipynb\" target=\"_parent\"><img src=\"https://colab.research.google.com/assets/colab-badge.svg\" alt=\"Open In Colab\"/></a>"
      ]
    },
    {
      "cell_type": "code",
      "execution_count": 48,
      "metadata": {
        "id": "PzuCI9AXqPqc"
      },
      "outputs": [],
      "source": [
        "import requests\n",
        "from prettytable import PrettyTable\n",
        "from tabulate import tabulate\n",
        "\n",
        "# Function that retrieves the lookupkeys (aka the phenotypes) for a gene of interest.\n",
        "# Note that lookupkeys may not always be the same, depending on the gene.\n",
        "# Plan will be to implement only a subset of genes so we will have more control over this.\n",
        "\n",
        "def get_lookupkeys(gene_symbol):\n",
        "    url = f\"https://api.cpicpgx.org/v1/diplotype?genesymbol=eq.{gene_symbol}\"\n",
        "    response = requests.get(url)\n",
        "    if response.status_code == 200:\n",
        "        data = response.json()\n",
        "        unique_lookupkeys = []\n",
        "        for item in data:\n",
        "            lookupkey = item['lookupkey']\n",
        "            if lookupkey not in unique_lookupkeys:\n",
        "                unique_lookupkeys.append(lookupkey)\n",
        "        return unique_lookupkeys\n",
        "    return None\n",
        "\n",
        "# Function that will display the lookupkeys in a nice table format\n",
        "\n",
        "def print_table(headers, rows):\n",
        "    table = PrettyTable(headers)\n",
        "    for row in rows:\n",
        "        table.add_row(row)\n",
        "    print(table)"
      ]
    },
    {
      "cell_type": "code",
      "source": [
        "# This will allow a user to enter a gene symbol (aka gene of interest) and call the get_lookupkeys function\n",
        "# to retrieve a table of lookupkeys\n",
        "\n",
        "gene_symbol = input(\"Enter gene symbol: \")\n",
        "lookupkeys = get_lookupkeys(gene_symbol)\n",
        "\n",
        "if lookupkeys:\n",
        "    headers = ['Lookupkeys']\n",
        "    rows = [[lookupkey] for lookupkey in lookupkeys]\n",
        "    print_table(headers, rows)\n",
        "else:\n",
        "    print(f\"No lookupkeys found for {gene_symbol}.\")"
      ],
      "metadata": {
        "id": "paT7UNHvqYKO",
        "colab": {
          "base_uri": "https://localhost:8080/"
        },
        "outputId": "1bd94df5-3b25-4929-b90a-119fe75adaa1"
      },
      "execution_count": 47,
      "outputs": [
        {
          "output_type": "stream",
          "name": "stdout",
          "text": [
            "Enter gene symbol: CYP2C19\n",
            "+------------------------------------------------+\n",
            "|                   Lookupkeys                   |\n",
            "+------------------------------------------------+\n",
            "|     {'CYP2C19': 'Ultrarapid Metabolizer'}      |\n",
            "|        {'CYP2C19': 'Rapid Metabolizer'}        |\n",
            "|       {'CYP2C19': 'Normal Metabolizer'}        |\n",
            "| {'CYP2C19': 'Likely Intermediate Metabolizer'} |\n",
            "|    {'CYP2C19': 'Intermediate Metabolizer'}     |\n",
            "|     {'CYP2C19': 'Likely Poor Metabolizer'}     |\n",
            "|        {'CYP2C19': 'Poor Metabolizer'}         |\n",
            "|          {'CYP2C19': 'Indeterminate'}          |\n",
            "+------------------------------------------------+\n"
          ]
        }
      ]
    },
    {
      "cell_type": "code",
      "source": [
        "import requests\n",
        "from tabulate import tabulate\n",
        "\n",
        "# Function that will retrieve the CPIC recommendation given a drugid and lookupkey as inputs\n",
        "\n",
        "def get_recommendation(drugid, lookupkey):\n",
        "    url = f\"https://api.cpicpgx.org/v1/recommendation?select=drug(name), guideline(name),* &drugid=eq.{drugid}&lookupkey=cs.{lookupkey}\"\n",
        "    response = requests.get(url)\n",
        "    if response.ok:\n",
        "        data = response.json()\n",
        "        recommendations = [{ 'Drug': item['drug']['name'], 'Guideline': item['guideline']['name'], 'Recommendation': item['drugrecommendation'] } for item in data]\n",
        "        return recommendations\n",
        "    return None\n",
        "\n",
        "# Displays the drug, guideline, and recommendation using the get_recommendation function.\n",
        "\n",
        "# This function will need to be modified to\n",
        "# 1) use a drug name instead of drugid AND\n",
        "# 2) Link the lookupkey from the previous section and hardcode it into this section.\n",
        "# 3) Modify the columns and potentially the output so it's not scrolling.\n",
        "\n",
        "def main():\n",
        "    drugid = 'RxNorm:36437'\n",
        "    lookupkey = '{\"CYP2C19\": \"Ultrarapid Metabolizer\"}'\n",
        "    recommendations = get_recommendation(drugid, lookupkey)\n",
        "    if recommendations:\n",
        "        headers = {'Drug': 'Drug', 'Guideline': 'Guideline', 'Recommendation': 'Recommendation'}\n",
        "        print(tabulate(recommendations, headers=headers))\n",
        "    else:\n",
        "        print(\"No recommendations found.\")\n",
        "\n",
        "if __name__ == '__main__':\n",
        "    main()\n"
      ],
      "metadata": {
        "colab": {
          "base_uri": "https://localhost:8080/"
        },
        "id": "ZrBv6mGl-jCO",
        "outputId": "e5ed3ebb-05fb-42aa-9aa7-b60d5f9469c2"
      },
      "execution_count": 49,
      "outputs": [
        {
          "output_type": "stream",
          "name": "stdout",
          "text": [
            "Drug        Guideline                                                    Recommendation\n",
            "----------  -----------------------------------------------------------  -----------------------------------------------------------------------------------------------------------------------------------------------------------------------------------\n",
            "sertraline  CYP2D6, CYP2C19 and Selective Serotonin Reuptake Inhibitors  Initiate therapy with recommended starting dose. If patient does not respond to recommended maintenance dosing, consider alternative drug not predominantly metabolized by CYP2C19.\n"
          ]
        }
      ]
    },
    {
      "cell_type": "code",
      "source": [
        "# WORK IN PROGRESS\n",
        "# Feature get list of CPIC gene symbols\n",
        "\n",
        "def get_genesymbols():\n",
        "    url = \"https://api.cpicpgx.org/v1/gene\"\n",
        "    response = requests.get(url)\n",
        "    if response.ok:\n",
        "        data = response.json()\n",
        "        return [item['symbol'] for item in data]\n",
        "    return None\n",
        "\n",
        "# Feature that links each gene symbol to a number\n",
        "\n",
        "def main():\n",
        "    genesymbols = get_genesymbols()\n",
        "    if genesymbols:\n",
        "        print(\"Available gene symbols:\")\n",
        "        for i, symbol in enumerate(genesymbols):\n",
        "            print(f\"{i+1}. {symbol}\")\n",
        "        choice = input(\"Enter the number corresponding to the gene symbol of interest: \")\n",
        "        try:\n",
        "            choice = int(choice)\n",
        "            if 1 <= choice <= len(genesymbols):\n",
        "                gene_symbol = genesymbols[choice-1]\n",
        "                lookupkeys = get_lookupkeys(gene_symbol)\n",
        "                if lookupkeys:\n",
        "                    headers = ['Lookupkeys']\n",
        "                    rows = [[lookupkey] for lookupkey in lookupkeys]\n",
        "                    print(tabulate(rows, headers=headers))\n",
        "                else:\n",
        "                    print(f\"No lookupkeys found for gene symbol {gene_symbol}\")\n",
        "            else:\n",
        "                print(\"Invalid choice.\")\n",
        "        except ValueError:\n",
        "            print(\"Invalid input. Please enter a number.\")\n",
        "    else:\n",
        "        print(\"Unable to retrieve available gene symbols.\")\n",
        "\n",
        "if __name__ == '__main__':\n",
        "    main()"
      ],
      "metadata": {
        "id": "pSA8ShrP8Yed"
      },
      "execution_count": null,
      "outputs": []
    }
  ]
}