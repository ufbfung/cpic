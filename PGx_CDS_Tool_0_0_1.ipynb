{
  "nbformat": 4,
  "nbformat_minor": 0,
  "metadata": {
    "colab": {
      "provenance": [],
      "authorship_tag": "ABX9TyNM5IMdwfE5qsba/p1QhUFD",
      "include_colab_link": true
    },
    "kernelspec": {
      "name": "python3",
      "display_name": "Python 3"
    },
    "language_info": {
      "name": "python"
    }
  },
  "cells": [
    {
      "cell_type": "markdown",
      "metadata": {
        "id": "view-in-github",
        "colab_type": "text"
      },
      "source": [
        "<a href=\"https://colab.research.google.com/github/ufbfung/cpic/blob/main/PGx_CDS_Tool_0_0_1.ipynb\" target=\"_parent\"><img src=\"https://colab.research.google.com/assets/colab-badge.svg\" alt=\"Open In Colab\"/></a>"
      ]
    },
    {
      "cell_type": "code",
      "execution_count": null,
      "metadata": {
        "id": "PzuCI9AXqPqc"
      },
      "outputs": [],
      "source": [
        "import requests\n",
        "from prettytable import PrettyTable\n",
        "from tabulate import tabulate\n",
        "\n",
        "# Function that retrieves the lookupkeys (aka the phenotypes) for a gene of interest.\n",
        "# Note that lookupkeys may not always be the same, depending on the gene.\n",
        "# Plan will be to implement only a subset of genes so we will have more control over this.\n",
        "\n",
        "def get_lookupkeys(gene_symbol):\n",
        "    url = f\"https://api.cpicpgx.org/v1/diplotype?genesymbol=eq.{gene_symbol}\"\n",
        "    response = requests.get(url)\n",
        "    if response.status_code == 200:\n",
        "        data = response.json()\n",
        "        unique_lookupkeys = []\n",
        "        for item in data:\n",
        "            lookupkey = item['lookupkey']\n",
        "            if lookupkey not in unique_lookupkeys:\n",
        "                unique_lookupkeys.append(lookupkey)\n",
        "        return unique_lookupkeys\n",
        "    return None\n",
        "\n",
        "# Function that will display the lookupkeys in a nice table format\n",
        "\n",
        "def print_table(headers, rows):\n",
        "    table = PrettyTable(headers)\n",
        "    for row in rows:\n",
        "        table.add_row(row)\n",
        "    print(table)"
      ]
    },
    {
      "cell_type": "code",
      "source": [
        "# This will allow a user to enter a gene symbol (aka gene of interest) and call the get_lookupkeys function\n",
        "# to retrieve a table of lookupkeys\n",
        "\n",
        "gene_symbol = input(\"Enter gene symbol: \")\n",
        "lookupkeys = get_lookupkeys(gene_symbol)\n",
        "\n",
        "if lookupkeys:\n",
        "    headers = ['Lookupkeys']\n",
        "    rows = [[lookupkey] for lookupkey in lookupkeys]\n",
        "    print_table(headers, rows)\n",
        "else:\n",
        "    print(f\"No lookupkeys found for {gene_symbol}.\")"
      ],
      "metadata": {
        "id": "paT7UNHvqYKO",
        "colab": {
          "base_uri": "https://localhost:8080/"
        },
        "outputId": "1bd94df5-3b25-4929-b90a-119fe75adaa1"
      },
      "execution_count": null,
      "outputs": [
        {
          "output_type": "stream",
          "name": "stdout",
          "text": [
            "Enter gene symbol: CYP2C19\n",
            "+------------------------------------------------+\n",
            "|                   Lookupkeys                   |\n",
            "+------------------------------------------------+\n",
            "|     {'CYP2C19': 'Ultrarapid Metabolizer'}      |\n",
            "|        {'CYP2C19': 'Rapid Metabolizer'}        |\n",
            "|       {'CYP2C19': 'Normal Metabolizer'}        |\n",
            "| {'CYP2C19': 'Likely Intermediate Metabolizer'} |\n",
            "|    {'CYP2C19': 'Intermediate Metabolizer'}     |\n",
            "|     {'CYP2C19': 'Likely Poor Metabolizer'}     |\n",
            "|        {'CYP2C19': 'Poor Metabolizer'}         |\n",
            "|          {'CYP2C19': 'Indeterminate'}          |\n",
            "+------------------------------------------------+\n"
          ]
        }
      ]
    },
    {
      "cell_type": "code",
      "source": [
        "import requests\n",
        "from tabulate import tabulate\n",
        "\n",
        "# Function that will retrieve the CPIC recommendation given a drugid and lookupkey as inputs\n",
        "\n",
        "def get_recommendation(drugid, lookupkey):\n",
        "    url = f\"https://api.cpicpgx.org/v1/recommendation?select=drug(name), guideline(name),* &drugid=eq.{drugid}&lookupkey=cs.{lookupkey}\"\n",
        "    response = requests.get(url)\n",
        "    if response.ok:\n",
        "        data = response.json()\n",
        "        recommendations = [{ 'Drug': item['drug']['name'], 'Guideline': item['guideline']['name'], 'Recommendation': item['drugrecommendation'] } for item in data]\n",
        "        return recommendations\n",
        "    return None\n",
        "\n",
        "# Displays the drug, guideline, and recommendation using the get_recommendation function.\n",
        "\n",
        "# This function will need to be modified to\n",
        "# 1) use a drug name instead of drugid AND\n",
        "# 2) Link the lookupkey from the previous section and hardcode it into this section.\n",
        "# 3) Modify the columns and potentially the output so it's not scrolling.\n",
        "\n",
        "def main():\n",
        "    drugid = 'RxNorm:36437'\n",
        "    lookupkey = '{\"CYP2C19\": \"Ultrarapid Metabolizer\"}'\n",
        "    recommendations = get_recommendation(drugid, lookupkey)\n",
        "    if recommendations:\n",
        "        headers = {'Drug': 'Drug', 'Guideline': 'Guideline', 'Recommendation': 'Recommendation'}\n",
        "        print(tabulate(recommendations, headers=headers))\n",
        "    else:\n",
        "        print(\"No recommendations found.\")\n",
        "\n",
        "if __name__ == '__main__':\n",
        "    main()\n"
      ],
      "metadata": {
        "colab": {
          "base_uri": "https://localhost:8080/"
        },
        "id": "ZrBv6mGl-jCO",
        "outputId": "e5ed3ebb-05fb-42aa-9aa7-b60d5f9469c2"
      },
      "execution_count": null,
      "outputs": [
        {
          "output_type": "stream",
          "name": "stdout",
          "text": [
            "Drug        Guideline                                                    Recommendation\n",
            "----------  -----------------------------------------------------------  -----------------------------------------------------------------------------------------------------------------------------------------------------------------------------------\n",
            "sertraline  CYP2D6, CYP2C19 and Selective Serotonin Reuptake Inhibitors  Initiate therapy with recommended starting dose. If patient does not respond to recommended maintenance dosing, consider alternative drug not predominantly metabolized by CYP2C19.\n"
          ]
        }
      ]
    },
    {
      "cell_type": "code",
      "source": [
        "# WORK IN PROGRESS\n",
        "# Feature get list of CPIC gene symbols\n",
        "\n",
        "def get_genesymbols():\n",
        "    url = \"https://api.cpicpgx.org/v1/gene\"\n",
        "    response = requests.get(url)\n",
        "    if response.ok:\n",
        "        data = response.json()\n",
        "        return [item['symbol'] for item in data]\n",
        "    return None\n",
        "\n",
        "# Feature that links each gene symbol to a number\n",
        "\n",
        "def main():\n",
        "    genesymbols = get_genesymbols()\n",
        "    if genesymbols:\n",
        "        print(\"Available gene symbols:\")\n",
        "        for i, symbol in enumerate(genesymbols):\n",
        "            print(f\"{i+1}. {symbol}\")\n",
        "        choice = input(\"Enter the number corresponding to the gene symbol of interest: \")\n",
        "        try:\n",
        "            choice = int(choice)\n",
        "            if 1 <= choice <= len(genesymbols):\n",
        "                gene_symbol = genesymbols[choice-1]\n",
        "                lookupkeys = get_lookupkeys(gene_symbol)\n",
        "                if lookupkeys:\n",
        "                    headers = ['Lookupkeys']\n",
        "                    rows = [[lookupkey] for lookupkey in lookupkeys]\n",
        "                    print(tabulate(rows, headers=headers))\n",
        "                else:\n",
        "                    print(f\"No lookupkeys found for gene symbol {gene_symbol}\")\n",
        "            else:\n",
        "                print(\"Invalid choice.\")\n",
        "        except ValueError:\n",
        "            print(\"Invalid input. Please enter a number.\")\n",
        "    else:\n",
        "        print(\"Unable to retrieve available gene symbols.\")\n",
        "\n",
        "if __name__ == '__main__':\n",
        "    main()"
      ],
      "metadata": {
        "id": "pSA8ShrP8Yed"
      },
      "execution_count": null,
      "outputs": []
    },
    {
      "cell_type": "code",
      "source": [
        "pip install pgmpy"
      ],
      "metadata": {
        "id": "SLo1Mtc-YecR"
      },
      "execution_count": null,
      "outputs": []
    },
    {
      "cell_type": "code",
      "source": [
        "# Exploring whether we can leverage the frequency information about each gene to build a Bayes Net\n",
        "# to predict the phenotypes that a patient is likely to have\n",
        "\n",
        "import pandas as pd\n",
        "import numpy as np\n",
        "from pgmpy.models import BayesianNetwork\n",
        "from pgmpy.factors.discrete import TabularCPD\n",
        "\n",
        "# Define the data\n",
        "data_list = [\n",
        "    {\n",
        "        'Ethnicity': 'Asian',\n",
        "        'frequency': {'Normal metabolizer': 0.75, 'Intermediate metabolizer': 0.22, 'Poor metabolizer': 0.03}\n",
        "    },\n",
        "    {\n",
        "        'Ethnicity': 'Caucasian',\n",
        "        'frequency': {'Normal metabolizer': 0.74, 'Intermediate metabolizer': 0.24, 'Poor metabolizer': 0.02}\n",
        "    },\n",
        "    {\n",
        "        'Ethnicity': 'African',\n",
        "        'frequency': {'Normal metabolizer': 0.72, 'Intermediate metabolizer': 0.26, 'Poor metabolizer': 0.02}\n",
        "    }\n",
        "]\n",
        "\n",
        "values = {\n",
        "    'Ethnicity': ['Asian', 'Caucasian', 'African'],\n",
        "    'CYP2C19': ['Normal metabolizer', 'Intermediate metabolizer', 'Poor metabolizer'],\n",
        "}\n",
        "\n",
        "# Create the Bayesian network\n",
        "cpds = []\n",
        "model = BayesianNetwork()\n",
        "\n",
        "# Define the CYP2C19 variable\n",
        "cpd_cyp2c19 = TabularCPD(\n",
        "    variable='CYP2C19',\n",
        "    variable_card=len(values['CYP2C19']),\n",
        "    values=np.zeros((len(values['CYP2C19']), 1)),\n",
        "    evidence=['Ethnicity'],\n",
        "    evidence_card=[len(values['Ethnicity'])],\n",
        "    state_names={f'CYP2C19_{i}': value for i, value in enumerate(values['CYP2C19'])},\n",
        ")\n",
        "for ethnic_group in values['Ethnicity']:\n",
        "    frequencies = [data['frequency'][ethnic_group] for data in data_list]\n",
        "    cpd_cyp2c19.values = np.array([frequencies]).T\n",
        "\n",
        "cpds.append(cpd_cyp2c19)\n",
        "\n",
        "# Define the Ethnicity variable\n",
        "cpd_ethnicity = TabularCPD(\n",
        "    variable='Ethnicity',\n",
        "    variable_card=len(values['Ethnicity']),\n",
        "    values=[1 / len(values['Ethnicity'])] * len(values['Ethnicity']),\n",
        "    state_names={f'Ethnicity_{i}': value for i, value in enumerate(values['Ethnicity'])},\n",
        ")\n",
        "cpds.append(cpd_ethnicity)\n",
        "\n",
        "model.add_cpds(*cpds)  # Add the CPDs to the model\n",
        "\n",
        "print(model.check_model())  # Check if the model is valid\n",
        "print(model.get_cpds())  # Print the CPDs of the model\n"
      ],
      "metadata": {
        "colab": {
          "base_uri": "https://localhost:8080/",
          "height": 385
        },
        "id": "xJv280xZT0jO",
        "outputId": "47a9effe-69f0-4389-cbaf-31dc73630314"
      },
      "execution_count": 17,
      "outputs": [
        {
          "output_type": "error",
          "ename": "ValueError",
          "evalue": "ignored",
          "traceback": [
            "\u001b[0;31m---------------------------------------------------------------------------\u001b[0m",
            "\u001b[0;31mValueError\u001b[0m                                Traceback (most recent call last)",
            "\u001b[0;32m<ipython-input-17-990166759944>\u001b[0m in \u001b[0;36m<module>\u001b[0;34m\u001b[0m\n\u001b[1;32m     32\u001b[0m \u001b[0;34m\u001b[0m\u001b[0m\n\u001b[1;32m     33\u001b[0m \u001b[0;31m# Define the CYP2C19 variable\u001b[0m\u001b[0;34m\u001b[0m\u001b[0;34m\u001b[0m\u001b[0;34m\u001b[0m\u001b[0m\n\u001b[0;32m---> 34\u001b[0;31m cpd_cyp2c19 = TabularCPD(\n\u001b[0m\u001b[1;32m     35\u001b[0m     \u001b[0mvariable\u001b[0m\u001b[0;34m=\u001b[0m\u001b[0;34m'CYP2C19'\u001b[0m\u001b[0;34m,\u001b[0m\u001b[0;34m\u001b[0m\u001b[0;34m\u001b[0m\u001b[0m\n\u001b[1;32m     36\u001b[0m     \u001b[0mvariable_card\u001b[0m\u001b[0;34m=\u001b[0m\u001b[0mlen\u001b[0m\u001b[0;34m(\u001b[0m\u001b[0mvalues\u001b[0m\u001b[0;34m[\u001b[0m\u001b[0;34m'CYP2C19'\u001b[0m\u001b[0;34m]\u001b[0m\u001b[0;34m)\u001b[0m\u001b[0;34m,\u001b[0m\u001b[0;34m\u001b[0m\u001b[0;34m\u001b[0m\u001b[0m\n",
            "\u001b[0;32m/usr/local/lib/python3.8/dist-packages/pgmpy/factors/discrete/CPD.py\u001b[0m in \u001b[0;36m__init__\u001b[0;34m(self, variable, variable_card, values, evidence, evidence_card, state_names)\u001b[0m\n\u001b[1;32m    131\u001b[0m             \u001b[0mexpected_cpd_shape\u001b[0m \u001b[0;34m=\u001b[0m \u001b[0;34m(\u001b[0m\u001b[0mvariable_card\u001b[0m\u001b[0;34m,\u001b[0m \u001b[0mnp\u001b[0m\u001b[0;34m.\u001b[0m\u001b[0mproduct\u001b[0m\u001b[0;34m(\u001b[0m\u001b[0mevidence_card\u001b[0m\u001b[0;34m)\u001b[0m\u001b[0;34m)\u001b[0m\u001b[0;34m\u001b[0m\u001b[0;34m\u001b[0m\u001b[0m\n\u001b[1;32m    132\u001b[0m         \u001b[0;32mif\u001b[0m \u001b[0mvalues\u001b[0m\u001b[0;34m.\u001b[0m\u001b[0mshape\u001b[0m \u001b[0;34m!=\u001b[0m \u001b[0mexpected_cpd_shape\u001b[0m\u001b[0;34m:\u001b[0m\u001b[0;34m\u001b[0m\u001b[0;34m\u001b[0m\u001b[0m\n\u001b[0;32m--> 133\u001b[0;31m             raise ValueError(\n\u001b[0m\u001b[1;32m    134\u001b[0m                 \u001b[0;34mf\"values must be of shape {expected_cpd_shape}. Got shape: {values.shape}\"\u001b[0m\u001b[0;34m\u001b[0m\u001b[0;34m\u001b[0m\u001b[0m\n\u001b[1;32m    135\u001b[0m             )\n",
            "\u001b[0;31mValueError\u001b[0m: values must be of shape (3, 3). Got shape: (3, 1)"
          ]
        }
      ]
    }
  ]
}