{
  "cells": [
    {
      "cell_type": "markdown",
      "metadata": {
        "id": "view-in-github",
        "colab_type": "text"
      },
      "source": [
        "<a href=\"https://colab.research.google.com/github/ufbfung/cpic/blob/main/ethnicitylookup_noGUI.ipynb\" target=\"_parent\"><img src=\"https://colab.research.google.com/assets/colab-badge.svg\" alt=\"Open In Colab\"/></a>"
      ]
    },
    {
      "cell_type": "code",
      "source": [
        "import requests\n",
        "\n",
        "def get_drugid():\n",
        "\n",
        "  # Prompt user for drug of choice\n",
        "  drug = input(\"Enter name of drug, all lowercase: \")\n",
        "  url = \"https://api.cpicpgx.org/v1/drug?name=eq.\" + drug\n",
        "  response = requests.get(url)\n",
        "  while response.text == '[]' or response.status_code != 200:\n",
        "    print(\"Invalid drug name entered. Please try again.\")\n",
        "    drug = input(\"Enter name of drug: \")\n",
        "    url = \"https://api.cpicpgx.org/v1/drug?name=eq.\" + drug\n",
        "    response = requests.get(url)\n",
        "\n",
        "  # Convert drug name to RxNorm drugID\n",
        "  data = response.json()\n",
        "  drugid = data[0]['drugid']\n",
        "  return drugid"
      ],
      "metadata": {
        "id": "ceKnXFuxkMYS"
      },
      "execution_count": 20,
      "outputs": []
    },
    {
      "cell_type": "code",
      "source": [
        "def get_genotype():\n",
        "\n",
        "  # Prompt user for genotype\n",
        "  genotype = input(\"Please enter patient genotype for CYP2C19 (e.g. *17/*17), press Enter if unknown genotype: \")\n",
        "  return genotype\n",
        "\n",
        "\n",
        "def get_ethnicity():\n",
        "\n",
        "  # Prompt user for ethnicity\n",
        "  choices=['Latino', 'American', 'European', 'Oceanian', 'East Asian',\n",
        "          'Near Eastern', 'Central/South Asian', 'Sub-Saharan African',\n",
        "          'African American/Afro-Caribbean', 'Other', 'Mixed Ethnicity',\n",
        "          'Unknown']\n",
        "  print(\"Please select one of the choices listed below: \")\n",
        "  for c in choices:\n",
        "    print(c)\n",
        "  ethnicity = input(\"Ethnicity: \")\n",
        "  while ethnicity not in choices:\n",
        "    print(\"Invalid choice, please select again.\")\n",
        "    ethnicity = input(\"Ethnicity: \")\n",
        "  return ethnicity"
      ],
      "metadata": {
        "id": "mytYzpP3rL7R"
      },
      "execution_count": 35,
      "outputs": []
    },
    {
      "cell_type": "code",
      "source": [
        "def get_lookupkey_from_genotype(genotype):\n",
        "\n",
        "  url = \"https://api.cpicpgx.org/v1/diplotype?genesymbol=eq.CYP2C19&diplotype=eq.\" + genotype\n",
        "  response = requests.get(url)\n",
        "  if response.status_code == 200 and response.text != '[]':\n",
        "    data = response.json()\n",
        "    lookupkey = data[0]['lookupkey']\n",
        "    return lookupkey\n",
        "  return None"
      ],
      "metadata": {
        "id": "_0hyeVj2zdPX"
      },
      "execution_count": 90,
      "outputs": []
    },
    {
      "cell_type": "code",
      "source": [
        "def lookupkey_to_prob_list(ethnicity):\n",
        "\n",
        "  url = \"https://api.cpicpgx.org/v1/gene_result?genesymbol=eq.CYP2C19&frequency=not.is.null&order=result&select=result,frequency\"\n",
        "  response = requests.get(url)\n",
        "  lookupkey_to_prob = []\n",
        "  data = response.json()\n",
        "  for item in data:\n",
        "    lookupkey = {'CYP2C19': item['result']} \n",
        "    prob = item['frequency'][ethnicity]\n",
        "    lookupkey_to_prob.append((lookupkey, prob))\n",
        "  return lookupkey_to_prob"
      ],
      "metadata": {
        "id": "g9d-7q7f7Tkl"
      },
      "execution_count": 80,
      "outputs": []
    },
    {
      "cell_type": "code",
      "source": [
        "def get_recommendations_for_ethnicity(drugid):\n",
        "\n",
        "  ethnicity = get_ethnicity()\n",
        "\n",
        "  # User did not enter specific genotype or ethnicity\n",
        "  if ethnicity == 'Unknown':\n",
        "    print(\"Enquire about patient ethnicity, or recommend genetic testing for most precise results.\")\n",
        "    return None\n",
        "\n",
        "  # Mixed ethnicity - no good way to handle this case\n",
        "  if ethnicity == 'Mixed Ethnicity' or ethnicity == 'Other':\n",
        "    print(\"Unfortunately our database does not currently contain data for this ethnicity.\")\n",
        "    print(\"We recommend genetic testing for most precise results.\")\n",
        "    return None\n",
        "\n",
        "  # Valid ethnicity entered - now, get list of tuples (lookupkey, probability) for that specific ethnicity\n",
        "  lookupkey_to_prob = lookupkey_to_prob_list(ethnicity)\n",
        "\n",
        "  # Iterate through list and get recommendations\n",
        "  recommendations = []\n",
        "  for lookupkey, prob in sorted(lookupkey_to_prob, key = lambda k:k[1], reverse = True):\n",
        "\n",
        "    # Set phenotype probability cutoff as desired for final output, or just output all phenotypes\n",
        "    #if prob > 0.01:\n",
        "    recommendations = recommendations + get_recommendation(drugid, json.dumps(lookupkey), prob)\n",
        "\n",
        "  return recommendations\n"
      ],
      "metadata": {
        "id": "3jEE5ufbm_21"
      },
      "execution_count": 110,
      "outputs": []
    },
    {
      "cell_type": "code",
      "execution_count": 112,
      "metadata": {
        "colab": {
          "base_uri": "https://localhost:8080/"
        },
        "id": "ZrBv6mGl-jCO",
        "outputId": "b5ac7b1e-0ad9-4fdc-e36a-9ddca08975e0"
      },
      "outputs": [
        {
          "output_type": "stream",
          "name": "stdout",
          "text": [
            "Enter name of drug, all lowercase: sertraline\n",
            "Please enter patient genotype for CYP2C19 (e.g. *17/*17), press Enter if unknown genotype: \n",
            "Please select one of the choices listed below: \n",
            "Latino\n",
            "American\n",
            "European\n",
            "Oceanian\n",
            "East Asian\n",
            "Near Eastern\n",
            "Central/South Asian\n",
            "Sub-Saharan African\n",
            "African American/Afro-Caribbean\n",
            "Other\n",
            "Mixed Ethnicity\n",
            "Unknown\n",
            "Ethnicity: Latino\n",
            "CPIC Recommendations:\n",
            "Drug        CYP2C19 Phenotype                  Probability of Phenotype:   Recommendation                                                                                                                                                                       Guideline\n",
            "----------  -------------------------------  ----------------------------  -----------------------------------------------------------------------------------------------------------------------------------------------------------------------------------  -----------------------------------------------------------\n",
            "sertraline  Normal Metabolizer                                0.524977     Initiate therapy with recommended starting dose                                                                                                                                      CYP2D6, CYP2C19 and Selective Serotonin Reuptake Inhibitors\n",
            "sertraline  Rapid Metabolizer                                 0.241361     Initiate therapy with recommended starting dose. If patient does not respond to recommended maintenance dosing, consider alternative drug not predominantly metabolized by CYP2C19.  CYP2D6, CYP2C19 and Selective Serotonin Reuptake Inhibitors\n",
            "sertraline  Intermediate Metabolizer                          0.190359     Initiate therapy with recommended starting dose                                                                                                                                      CYP2D6, CYP2C19 and Selective Serotonin Reuptake Inhibitors\n",
            "sertraline  Ultrarapid Metabolizer                            0.0277417    Initiate therapy with recommended starting dose. If patient does not respond to recommended maintenance dosing, consider alternative drug not predominantly metabolized by CYP2C19.  CYP2D6, CYP2C19 and Selective Serotonin Reuptake Inhibitors\n",
            "sertraline  Poor Metabolizer                                  0.0114084    Consider a 50% reduction of recommended starting dose and titrate to response or select alternative drug not predominantly metabolized by CYP2C19.                                   CYP2D6, CYP2C19 and Selective Serotonin Reuptake Inhibitors\n",
            "sertraline  Likely Intermediate Metabolizer                   0.00370916   Initiate therapy with recommended starting dose                                                                                                                                      CYP2D6, CYP2C19 and Selective Serotonin Reuptake Inhibitors\n",
            "sertraline  Likely Poor Metabolizer                           0.000444068  Consider a 50% reduction of recommended starting dose and titrate to response or select alternative drug not predominantly metabolized by CYP2C19.                                   CYP2D6, CYP2C19 and Selective Serotonin Reuptake Inhibitors\n",
            "sertraline  Indeterminate                                     0            No recommendation                                                                                                                                                                    CYP2D6, CYP2C19 and Selective Serotonin Reuptake Inhibitors\n"
          ]
        }
      ],
      "source": [
        "import requests\n",
        "from tabulate import tabulate\n",
        "import json\n",
        "\n",
        "# Function that will retrieve the CPIC recommendation given a drugid and lookupkey as inputs\n",
        "\n",
        "def get_recommendation(drugid, lookupkey, prob=1.0):\n",
        "    url = f\"https://api.cpicpgx.org/v1/recommendation?select=drug(name), guideline(name),* &drugid=eq.{drugid}&lookupkey=cs.{lookupkey}\"\n",
        "    response = requests.get(url)\n",
        "    if response.ok:\n",
        "        data = response.json()\n",
        "        recommendations = [{'Drug': item['drug']['name'],\n",
        "                            'CYP2C19 Phenotype': lookupkey.split(\"\\\"\")[3],\n",
        "                            'Probability of Phenotype': prob, \n",
        "                            'Recommendation': item['drugrecommendation'],\n",
        "                            'Guideline': item['guideline']['name']} for item in data]\n",
        "        return recommendations\n",
        "    return None\n",
        "\n",
        "# Displays the drug, CYP2C19 phenotype, associated probability, recommendation, and guideline using the get_recommendation function.\n",
        "\n",
        "def main():\n",
        "\n",
        "    # Prompt user for drug name, and retrieve RxNorm drug ID\n",
        "    drugid = get_drugid()\n",
        "\n",
        "    # For now, hardcode gene as CYP2C19 - can modify this later to let user select a gene(s), or mention in future directions\n",
        "\n",
        "    # Prompt user to enter patient genotype for CYP2C19/ethnicity\n",
        "    genotype = get_genotype()\n",
        "    lookupkey = get_lookupkey_from_genotype(genotype)\n",
        "    by_ethnicity = False\n",
        "\n",
        "    # If lookupkey is None, keep prompting user until they enter a valid genotype or unknown genotype\n",
        "    while lookupkey is None:\n",
        "\n",
        "      # If genotype is not known, get recommendations for all phenotypes, sorted by probability for patient's ethnicity\n",
        "      if not genotype:\n",
        "        recommendations = get_recommendations_for_ethnicity(drugid)\n",
        "        by_ethnicity = True\n",
        "        break\n",
        "\n",
        "      # If invalid genotype entered, prompt user to try again\n",
        "      print(\"Invalid CYP2C19 genotype entered, please try again.\")\n",
        "      genotype = get_genotype()\n",
        "      lookupkey = get_lookupkey_from_genotype(genotype)\n",
        "\n",
        "    \n",
        "    # Known CYP2C19 genotype - find lookup key and use it to get recommendations\n",
        "    if not by_ethnicity:\n",
        "        recommendations = get_recommendation(drugid, json.dumps(lookupkey))  # json.dumps to convert '' Python strings to \"\" JSON...\n",
        "\n",
        "    if recommendations:\n",
        "        headers = {'Drug': 'Drug', 'CYP2C19 Phenotype':'CYP2C19 Phenotype', 'Probability of Phenotype': 'Probability of Phenotype: ', \n",
        "                   'Recommendation': 'Recommendation', 'Guideline': 'Guideline'}\n",
        "        print('CPIC Recommendations:')\n",
        "        print(tabulate(recommendations, headers=headers))\n",
        "    else:\n",
        "        print(\"No recommendations found.\")\n",
        "\n",
        "if __name__ == '__main__':\n",
        "    main()\n"
      ]
    },
    {
      "cell_type": "code",
      "execution_count": 56,
      "metadata": {
        "id": "PzuCI9AXqPqc"
      },
      "outputs": [],
      "source": [
        "import requests\n",
        "from prettytable import PrettyTable\n",
        "from tabulate import tabulate\n",
        "\n",
        "# Function that retrieves the lookupkeys (aka the phenotypes) for a gene of interest.\n",
        "# Note that lookupkeys may not always be the same, depending on the gene.\n",
        "# Plan will be to implement only a subset of genes so we will have more control over this.\n",
        "\n",
        "def get_lookupkeys(gene_symbol):\n",
        "    url = f\"https://api.cpicpgx.org/v1/diplotype?genesymbol=eq.{gene_symbol}\"\n",
        "    response = requests.get(url)\n",
        "    if response.status_code == 200:\n",
        "        data = response.json()\n",
        "        unique_lookupkeys = []\n",
        "        for item in data:\n",
        "            lookupkey = item['lookupkey']\n",
        "            if lookupkey not in unique_lookupkeys:\n",
        "                unique_lookupkeys.append(lookupkey)\n",
        "        return unique_lookupkeys\n",
        "    return None\n",
        "\n",
        "# Function that will display the lookupkeys in a nice table format\n",
        "\n",
        "def print_table(headers, rows):\n",
        "    table = PrettyTable(headers)\n",
        "    for row in rows:\n",
        "        table.add_row(row)\n",
        "    print(table)"
      ]
    },
    {
      "cell_type": "code",
      "execution_count": 53,
      "metadata": {
        "colab": {
          "base_uri": "https://localhost:8080/"
        },
        "id": "paT7UNHvqYKO",
        "outputId": "920b2d69-9173-44bc-dcab-24dd4bf0b15d"
      },
      "outputs": [
        {
          "output_type": "stream",
          "name": "stdout",
          "text": [
            "Enter gene symbol: CYP2C19\n",
            "+------------------------------------------------+\n",
            "|                   Lookupkeys                   |\n",
            "+------------------------------------------------+\n",
            "|     {'CYP2C19': 'Ultrarapid Metabolizer'}      |\n",
            "|        {'CYP2C19': 'Rapid Metabolizer'}        |\n",
            "|       {'CYP2C19': 'Normal Metabolizer'}        |\n",
            "| {'CYP2C19': 'Likely Intermediate Metabolizer'} |\n",
            "|    {'CYP2C19': 'Intermediate Metabolizer'}     |\n",
            "|     {'CYP2C19': 'Likely Poor Metabolizer'}     |\n",
            "|        {'CYP2C19': 'Poor Metabolizer'}         |\n",
            "|          {'CYP2C19': 'Indeterminate'}          |\n",
            "+------------------------------------------------+\n"
          ]
        }
      ],
      "source": [
        "# This will allow a user to enter a gene symbol (aka gene of interest) and call the get_lookupkeys function\n",
        "# to retrieve a table of lookupkeys\n",
        "\n",
        "gene_symbol = input(\"Enter gene symbol: \")\n",
        "lookupkeys = get_lookupkeys(gene_symbol)\n",
        "\n",
        "if lookupkeys:\n",
        "    headers = ['Lookupkeys']\n",
        "    rows = [[lookupkey] for lookupkey in lookupkeys]\n",
        "    print_table(headers, rows)\n",
        "else:\n",
        "    print(f\"No lookupkeys found for {gene_symbol}.\")"
      ]
    }
  ],
  "metadata": {
    "colab": {
      "provenance": [],
      "include_colab_link": true
    },
    "kernelspec": {
      "display_name": "Python 3",
      "name": "python3"
    },
    "language_info": {
      "name": "python"
    }
  },
  "nbformat": 4,
  "nbformat_minor": 0
}