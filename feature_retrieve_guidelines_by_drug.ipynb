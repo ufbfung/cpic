{
 "cells": [
  {
   "cell_type": "code",
   "execution_count": null,
   "metadata": {},
   "outputs": [],
   "source": [
    "import pandas as pd\n",
    "import requests\n",
    "\n",
    "url = \"https://api.cpicpgx.org/v1/recommendation\"\n",
    "\n",
    "gene_info = '{\"CYP2C19\": \"Ultrarapid Metabolizer\"}'\n",
    "\n",
    "params = {\n",
    "    \"select\": \"drug(name), guideline(name), *\",\n",
    "    \"drugid\": \"eq.RxNorm:36437\",\n",
    "    \"lookupkey\": f\"cs.{gene_info}\"\n",
    "}\n",
    "\n",
    "response = requests.get(url, params=params)\n",
    "recommendations = response.json()\n",
    "\n",
    "# Convert the recommendations to a pandas DataFrame\n",
    "df = pd.DataFrame(recommendations)\n",
    "\n",
    "# Display the DataFrame as a table\n",
    "df"
   ]
  }
 ],
 "metadata": {
  "language_info": {
   "name": "python"
  },
  "orig_nbformat": 4
 },
 "nbformat": 4,
 "nbformat_minor": 2
}
